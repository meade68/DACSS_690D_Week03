{
 "cells": [
  {
   "cell_type": "markdown",
   "metadata": {
    "id": "Rq_-jS9HtUU-"
   },
   "source": [
    "<center><img src=\"https://github.com/DACSS-Spatial/data_forSpatial/raw/main/logo.png\" width=\"700\"></center>"
   ]
  },
  {
   "cell_type": "markdown",
   "metadata": {
    "id": "-cCaZ1r2tUVA"
   },
   "source": [
    "<a target=\"_blank\" href=\"https://colab.research.google.com/github/DACSS-Spatial/TheGeo-DataFrame/blob/main/index.ipynb\">\n",
    "  <img src=\"https://colab.research.google.com/assets/colab-badge.svg\" alt=\"Open In Colab\"/>\n",
    "</a>\n",
    "\n",
    "\n",
    "# The Geo Dataframe\n",
    "\n",
    "The geodataframe (GDF) is a data table (a dataframe or DF) where every row represents an spatial element (point, line, polygon). In Python, to work on DF (simple tables) you need external packages (**pandas**), and for GDF you also need an external package. We will use **geopandas**.\n",
    "\n",
    "You have some maps in zipped files for this session:\n",
    "\n",
    "1.   World countries, rivers, and cities.\n",
    "2.   Brazil regions and municipalities.\n",
    "\n",
    "You also have a data table (DF): Airports of Brazil."
   ]
  },
  {
   "cell_type": "markdown",
   "metadata": {
    "id": "GbEBLUOVYqis"
   },
   "source": [
    "## Getting ready for the session\n",
    "\n",
    "Please create a _repo_ for this session on _GitHub_ (name it as you think convenient). Once you clone the repo to your local machine, put all those GDF and DF in the repo and them _push_ them to the GitHub cloud. You should follow this session using your own _urls_ (you will use your own, replacing mine).\n",
    "\n",
    "Yoy MUST read your DFs or GDFs from GitHub."
   ]
  },
  {
   "cell_type": "markdown",
   "metadata": {
    "id": "3GvQBJgecboe"
   },
   "source": [
    "## The First GDF"
   ]
  },
  {
   "cell_type": "markdown",
   "metadata": {
    "id": "BUOIWMOTtUVB"
   },
   "source": [
    "With the help of **geopandas** and GitHub, we will bring the world countries:"
   ]
  },
  {
   "cell_type": "code",
   "execution_count": null,
   "metadata": {
    "id": "KJV5G0POtUVB"
   },
   "outputs": [],
   "source": [
    "import geopandas as gpd\n",
    "\n",
    "linkGitSession='https://github.com/DACSS-Spatial/data_forSpatial/raw/refs/heads/main/'\n",
    "\n",
    "linkCountries='WORLD/World_Countries.zip'\n",
    "\n",
    "fullLinkCountries=linkGitSession+linkCountries\n",
    "countries=gpd.read_file(fullLinkCountries)"
   ]
  },
  {
   "cell_type": "markdown",
   "metadata": {
    "id": "a5AOj3mktUVC"
   },
   "source": [
    "If no error was shown, we have the GDF. Let's visit it:"
   ]
  },
  {
   "cell_type": "code",
   "execution_count": null,
   "metadata": {
    "id": "BTVBGfNatUVC"
   },
   "outputs": [],
   "source": [
    "# what is it?\n",
    "type(countries)"
   ]
  },
  {
   "cell_type": "code",
   "execution_count": null,
   "metadata": {
    "id": "AkvWskZytUVC"
   },
   "outputs": [],
   "source": [
    "# dimensions\n",
    "countries.shape"
   ]
  },
  {
   "cell_type": "code",
   "execution_count": null,
   "metadata": {
    "id": "ETJdBBR1tUVD"
   },
   "outputs": [],
   "source": [
    "# names\n",
    "countries.columns"
   ]
  },
  {
   "cell_type": "code",
   "execution_count": null,
   "metadata": {
    "id": "vPHdGEtatUVD"
   },
   "outputs": [],
   "source": [
    "# any missing values?\n",
    "countries[countries.isna().any(axis=1)]"
   ]
  },
  {
   "cell_type": "code",
   "execution_count": null,
   "metadata": {
    "id": "TWXmBv-vtUVD",
    "scrolled": true
   },
   "outputs": [],
   "source": [
    "# data types in the GDF\n",
    "countries.info()"
   ]
  },
  {
   "cell_type": "code",
   "execution_count": null,
   "metadata": {
    "id": "QrbZt4g5tUVD"
   },
   "outputs": [],
   "source": [
    "# some content\n",
    "countries.head()"
   ]
  },
  {
   "cell_type": "markdown",
   "metadata": {
    "id": "QzT4ctrjtUVD"
   },
   "source": [
    "Al the previous commands exist and work the same if you had a DF from pandas. But now we have a new column type: **geometry**, and we can have some extra functiond from _geopandas_:"
   ]
  },
  {
   "cell_type": "code",
   "execution_count": null,
   "metadata": {
    "id": "GbW0ttJCeXp3"
   },
   "outputs": [],
   "source": [
    "# what geometry?\n",
    "countries.geom_type.unique()"
   ]
  },
  {
   "cell_type": "markdown",
   "metadata": {
    "id": "EASvB50uflY4"
   },
   "source": [
    "As we have polygons, we know the map is about country borders:"
   ]
  },
  {
   "cell_type": "code",
   "execution_count": null,
   "metadata": {
    "id": "DjMj9myHtUVD"
   },
   "outputs": [],
   "source": [
    "countries.plot(facecolor=\"azure\",#color of polygon fill\n",
    "               edgecolor='red', #color of border\n",
    "               linewidth=0.1) #thickness of lines"
   ]
  },
  {
   "cell_type": "markdown",
   "metadata": {
    "id": "iCtifGnqtUVD"
   },
   "source": [
    "## More GDFs\n",
    "\n",
    "Let's open the other maps:"
   ]
  },
  {
   "cell_type": "code",
   "execution_count": null,
   "metadata": {
    "id": "lPbJ4wFHtUVD"
   },
   "outputs": [],
   "source": [
    "linkRivers='WORLD/World_Hydrography.zip'\n",
    "linkCities='WORLD/World_Cities.zip'\n",
    "\n",
    "fullLinkRivers=linkGitSession+linkRivers\n",
    "fullLinkCities=linkGitSession+linkCities\n",
    "\n",
    "\n",
    "rivers=gpd.read_file(fullLinkRivers)\n",
    "cities=gpd.read_file(fullLinkCities)"
   ]
  },
  {
   "cell_type": "markdown",
   "metadata": {
    "id": "pEEhe2LC910_"
   },
   "source": [
    "This is the rivers map:"
   ]
  },
  {
   "cell_type": "code",
   "execution_count": null,
   "metadata": {
    "id": "8Gap_au4tUVD"
   },
   "outputs": [],
   "source": [
    "rivers.plot(edgecolor='blue',\n",
    "            linewidth=1,\n",
    "            linestyle='-')"
   ]
  },
  {
   "cell_type": "markdown",
   "metadata": {
    "id": "kw_THmHJ910_"
   },
   "source": [
    "This is the cities map:"
   ]
  },
  {
   "cell_type": "code",
   "execution_count": null,
   "metadata": {
    "id": "8nAC2GkptUVD"
   },
   "outputs": [],
   "source": [
    "cities.plot(marker='.', # marker type\n",
    "            color='red',\n",
    "            markersize=1,\n",
    "            alpha=0.3) # transparency"
   ]
  },
  {
   "cell_type": "markdown",
   "metadata": {
    "id": "iX7vQ_Kpn3V-"
   },
   "source": [
    "As we can see above, the rivers was a map of **lines**, while the cities were a map of **points**."
   ]
  },
  {
   "cell_type": "markdown",
   "metadata": {
    "id": "ZOiFM3uYtUVE"
   },
   "source": [
    "You can start by creating the **base** layer, and add other maps, as layers, on top:"
   ]
  },
  {
   "cell_type": "code",
   "execution_count": null,
   "metadata": {
    "id": "rqkVAvHstUVE"
   },
   "outputs": [],
   "source": [
    "base = countries.plot(facecolor=\"white\",\n",
    "                      edgecolor='black',\n",
    "                      linewidth=0.1,\n",
    "                      figsize=(12,12))\n",
    "\n",
    "rivers.plot(edgecolor='blue', linewidth=0.4,\n",
    "            ax=base)# on top of...\n",
    "cities.plot(marker='.', color='red', markersize=1,alpha=0.7,\n",
    "            ax=base) # on top of...\n"
   ]
  },
  {
   "cell_type": "markdown",
   "metadata": {
    "id": "acfb54f3-247c-4a37-a049-7fdbba2653d4"
   },
   "source": [
    "\n",
    "# The Map Projection\n",
    "\n",
    "We know the reality is at least in 3D, so on this screen and on piece of paper we should alter reality so the earth or parts of it can be seen in a meaningful way.\n",
    "\n",
    "Let's find out about the way the maps we have are represented in 2D:"
   ]
  },
  {
   "cell_type": "code",
   "execution_count": null,
   "metadata": {
    "id": "VtBhLzbksWfw"
   },
   "outputs": [],
   "source": [
    "countries.crs"
   ]
  },
  {
   "cell_type": "code",
   "execution_count": null,
   "metadata": {
    "id": "HawdSmNtsaDr"
   },
   "outputs": [],
   "source": [
    "cities.crs"
   ]
  },
  {
   "cell_type": "code",
   "execution_count": null,
   "metadata": {
    "id": "IbuKVxcRsdvv"
   },
   "outputs": [],
   "source": [
    "rivers.crs"
   ]
  },
  {
   "cell_type": "markdown",
   "metadata": {
    "id": "FSFQhk2hzBDy"
   },
   "source": [
    "In all the previous cases, you see a common CRS (EPSG 4326), and also that their axes are in **long** / **lat** (measured in *degrees*). That is a clear sign the the map is **NOT projected**.\n",
    "\n",
    "At this point, let me keep one country:"
   ]
  },
  {
   "cell_type": "code",
   "execution_count": null,
   "metadata": {
    "id": "SPHIKjXnxk4S"
   },
   "outputs": [],
   "source": [
    "brazil=countries[countries.COUNTRY=='Brazil']"
   ]
  },
  {
   "cell_type": "markdown",
   "metadata": {
    "id": "Hb_PUK3CzmY_"
   },
   "source": [
    "The country (or the subset of the countries map) will inherit the original projection:"
   ]
  },
  {
   "cell_type": "code",
   "execution_count": null,
   "metadata": {
    "id": "032135e2-edb7-42fd-908e-8873d3e6683e"
   },
   "outputs": [],
   "source": [
    "brazil.crs"
   ]
  },
  {
   "cell_type": "code",
   "execution_count": null,
   "metadata": {
    "id": "d6125ed3-d5da-46ed-b530-532a30ec35f8"
   },
   "outputs": [],
   "source": [
    "# check units of measurement\n",
    "brazil.crs.axis_info"
   ]
  },
  {
   "cell_type": "code",
   "execution_count": null,
   "metadata": {
    "id": "7b4fa59a-25e3-4ef2-8b2e-9e868d92c5a1"
   },
   "outputs": [],
   "source": [
    "# is this CRS projected?\n",
    "brazil.crs.is_projected"
   ]
  },
  {
   "cell_type": "markdown",
   "metadata": {
    "id": "lVm6urWU0qv3"
   },
   "source": [
    "The fact it is not projected, means that no operation involving distances gives reliable nor consistente results. For instance, we know Polygons have a centroid; but when we try getting a centroid from an **unprojected** polygon, you get:"
   ]
  },
  {
   "cell_type": "code",
   "execution_count": null,
   "metadata": {
    "id": "d1dde3fd-bfcb-4004-89fa-2c9bb3f8d784"
   },
   "outputs": [],
   "source": [
    "# a warning from python!\n",
    "brazil.centroid"
   ]
  },
  {
   "cell_type": "code",
   "execution_count": null,
   "metadata": {
    "id": "sUS7CjYm1aYT"
   },
   "outputs": [],
   "source": [
    "# this does not look bad\n",
    "base=brazil.plot()\n",
    "brazil.centroid.plot(ax=base,color='red')"
   ]
  },
  {
   "cell_type": "markdown",
   "metadata": {
    "id": "a182ba5b-fb0a-4c43-beeb-0a6c2a4fcfc8"
   },
   "source": [
    "## Reprojecting\n",
    "\n",
    "A projected CRS will have units in meters or feet (or similar). You can request a EPSG per country [here](https://epsg.io/?q=brazil+kind%3APROJCRS), but also debating with AI is good alternative."
   ]
  },
  {
   "cell_type": "code",
   "execution_count": null,
   "metadata": {
    "id": "8c63293a-d9a0-4869-a7e8-7fbe2f4bbb59"
   },
   "outputs": [],
   "source": [
    "# recommended from website\n",
    "brazil.to_crs(5641).crs.axis_info"
   ]
  },
  {
   "cell_type": "code",
   "execution_count": null,
   "metadata": {
    "id": "3c24db6e-8716-4f59-9a81-fead758b59e6"
   },
   "outputs": [],
   "source": [
    "# now this works with no warning\n",
    "brazil.to_crs(5641).centroid"
   ]
  },
  {
   "cell_type": "code",
   "execution_count": null,
   "metadata": {
    "id": "SlJh_CcO4W1A"
   },
   "outputs": [],
   "source": [
    "# recommended from Gemini - after a long chat!\n",
    "brazil.to_crs(5880).crs.axis_info"
   ]
  },
  {
   "cell_type": "code",
   "execution_count": null,
   "metadata": {
    "id": "zE6Om4_C66VQ"
   },
   "outputs": [],
   "source": [
    "# no warning either!\n",
    "brazil.to_crs(5880).centroid"
   ]
  },
  {
   "cell_type": "markdown",
   "metadata": {
    "id": "EJJnU5IbpG2K"
   },
   "source": [
    "Let's plot!"
   ]
  },
  {
   "cell_type": "code",
   "execution_count": null,
   "metadata": {
    "id": "7c8e31a4-54d4-4c95-adb7-81b1466e9938"
   },
   "outputs": [],
   "source": [
    "# replotting:\n",
    "\n",
    "base5880=brazil.to_crs(5880).plot()\n",
    "brazil.to_crs(5641).centroid.plot(color='black',ax=base5880)\n",
    "brazil.to_crs(5880).centroid.plot(color='lightgreen',ax=base5880)\n",
    "brazil.centroid.plot(color='red',ax=base5880)"
   ]
  },
  {
   "cell_type": "markdown",
   "metadata": {
    "id": "7402b0e4-fda8-431b-ad8d-62e0c12278f6"
   },
   "source": [
    "Let's keep the **EPSG: 5880**  for the the country and cities:"
   ]
  },
  {
   "cell_type": "code",
   "execution_count": null,
   "metadata": {
    "id": "ufejejnzzNjY"
   },
   "outputs": [],
   "source": [
    "brazil_5880=brazil.to_crs(5880)\n",
    "cities_brazil_5880=cities[cities.COUNTRY=='Brazil'].to_crs(5880)"
   ]
  },
  {
   "cell_type": "markdown",
   "metadata": {
    "id": "67c0b63b-c198-4b76-8f24-68f2f4e24ccf"
   },
   "source": [
    "### Think about...\n",
    "<div class=\"alert-success\">\n",
    "\n",
    "What would be a good CRS for your country, state, city?\n",
    "    \n",
    "</div>"
   ]
  },
  {
   "cell_type": "markdown",
   "metadata": {
    "id": "57780f1f-2c19-49b4-8fbe-b3cc954a83f2"
   },
   "source": [
    "## Creating a spatial dataframe\n",
    "\n",
    "You have a CSV file with information on the airports in Brazil. Save it to GitHub and open it:"
   ]
  },
  {
   "cell_type": "code",
   "execution_count": null,
   "metadata": {
    "id": "c95003f5-30f7-4941-85d1-fd2d87743c80"
   },
   "outputs": [],
   "source": [
    "import pandas as pd #using pandas\n",
    "\n",
    "infoairports=pd.read_csv(linkGitSession+'BRAZIL/br-airports.csv')\n",
    "\n",
    "# take a look\n",
    "\n",
    "infoairports #head and tail\n"
   ]
  },
  {
   "cell_type": "markdown",
   "metadata": {
    "id": "186b6ca4-e5f0-4502-91b4-dea1021fcdd2"
   },
   "source": [
    "Notice the firt row must not stay in the data. Then,"
   ]
  },
  {
   "cell_type": "code",
   "execution_count": null,
   "metadata": {
    "id": "faf009a8-7a75-461c-ba05-0e5760c971ff"
   },
   "outputs": [],
   "source": [
    "# bye first row\n",
    "infoairports.drop(index=0, #bye row 'zero'\n",
    "                  inplace=True) #immediately\n",
    "\n",
    "infoairports.reset_index(drop=True, # reset the index (row numbers)\n",
    "                         inplace=True) # immediately\n",
    "infoairports.head()"
   ]
  },
  {
   "cell_type": "markdown",
   "metadata": {
    "id": "XFz6IMqprjI2"
   },
   "source": [
    "This DF has so many columns:"
   ]
  },
  {
   "cell_type": "code",
   "execution_count": null,
   "metadata": {
    "id": "5d857678-c28e-4988-86b4-2ee6b11efdba"
   },
   "outputs": [],
   "source": [
    "infoairports.columns\n"
   ]
  },
  {
   "cell_type": "code",
   "execution_count": null,
   "metadata": {
    "id": "22dd51af-cad6-4aa3-843d-f2dbadefb990"
   },
   "outputs": [],
   "source": [
    "# keeping some\n",
    "\n",
    "# list of names to keep\n",
    "keep=['name','type','latitude_deg', 'longitude_deg','elevation_ft','region_name','municipality']\n",
    "\n",
    "infoairports=infoairports.loc[:,keep] # 'loc' when you have column names\n",
    "\n",
    "# less columns.\n",
    "\n",
    "infoairports.info() # checking data types"
   ]
  },
  {
   "cell_type": "markdown",
   "metadata": {
    "id": "a9f96cbf-6d53-45d1-9c5d-e236d6e3e652"
   },
   "source": [
    "We have two problems here:\n",
    "\n",
    "*   A column name is **type**. You must not use that name in a pandas dataframe column. Optionally change 'name' to 'airport_name'.\n",
    "*   Columns 2,3 and 4 are 'object', and they should be numeric. Then, we should use pandas' **pd.to_numeric()** function:"
   ]
  },
  {
   "cell_type": "markdown",
   "metadata": {
    "id": "xyMqwrHDwaoB"
   },
   "source": [
    "Solving problem 1:"
   ]
  },
  {
   "cell_type": "code",
   "execution_count": null,
   "metadata": {
    "id": "0CRs2YUQwdxQ"
   },
   "outputs": [],
   "source": [
    "infoairports.rename(columns={'type':'airport_type','name':'airport_name'},inplace=True)"
   ]
  },
  {
   "cell_type": "markdown",
   "metadata": {
    "id": "xyMqwrHDwaoB"
   },
   "source": [
    "Solving problem 2:"
   ]
  },
  {
   "cell_type": "code",
   "execution_count": null,
   "metadata": {
    "id": "b4cb8ee0-18a7-40c1-864b-cbc8086861c8"
   },
   "outputs": [],
   "source": [
    "ColumnsToNumeric=['latitude_deg', 'longitude_deg','elevation_ft']\n",
    "\n",
    "infoairports[ColumnsToNumeric]=infoairports.loc[:,ColumnsToNumeric].apply(lambda x:pd.to_numeric(x))"
   ]
  },
  {
   "cell_type": "code",
   "execution_count": null,
   "metadata": {
    "id": "4e7f0d14-934f-4465-b42f-d0c60efb6d32"
   },
   "outputs": [],
   "source": [
    "# RE verifying\n",
    "infoairports.info()"
   ]
  },
  {
   "cell_type": "code",
   "execution_count": null,
   "metadata": {
    "id": "b340ab20-2258-41a2-bbd4-6b6c31d422a0"
   },
   "outputs": [],
   "source": [
    "# let's plot using the unprojected map as base:\n",
    "\n",
    "base = brazil.plot(color='white', edgecolor='black') #unprojected\n",
    "\n",
    "infoairports.plot.scatter(x = 'longitude_deg', y = 'latitude_deg',ax=base)"
   ]
  },
  {
   "cell_type": "markdown",
   "metadata": {
    "id": "oWS4_S-xtKnk"
   },
   "source": [
    "The plotting worked well, but this is a poor choice."
   ]
  },
  {
   "cell_type": "markdown",
   "metadata": {
    "id": "77acc474-bb83-4174-9579-a8a641ff6adc"
   },
   "source": [
    "### Think about...\n",
    "<div class=\"alert-success\">\n",
    "\n",
    "Why this would be wrong?\n",
    "    \n",
    "</div>"
   ]
  },
  {
   "cell_type": "markdown",
   "metadata": {
    "id": "MTwqPzqDtoqU"
   },
   "source": [
    "Let's use the projected BRAZIL:"
   ]
  },
  {
   "cell_type": "code",
   "execution_count": null,
   "metadata": {
    "id": "CeSKko8Zs9Cq"
   },
   "outputs": [],
   "source": [
    "base = brazil_5880.plot(color='white', edgecolor='black')\n",
    "\n",
    "infoairports.plot.scatter(x = 'longitude_deg', y = 'latitude_deg',ax=base)"
   ]
  },
  {
   "cell_type": "markdown",
   "metadata": {
    "id": "YXpyBV2otxyN"
   },
   "source": [
    "That results only shows the different coordinate systems. But a bigger problem may be that the airports are not a spatial object:"
   ]
  },
  {
   "cell_type": "code",
   "execution_count": null,
   "metadata": {
    "id": "A7JVA1Kvt_OH"
   },
   "outputs": [],
   "source": [
    "type(infoairports)"
   ]
  },
  {
   "cell_type": "markdown",
   "metadata": {
    "id": "1mFNvdDtuCMC"
   },
   "source": [
    "The job is to turn the DF info a GDF:"
   ]
  },
  {
   "cell_type": "code",
   "execution_count": null,
   "metadata": {
    "id": "7b04453e-c335-4857-8fff-6a26c2daf730"
   },
   "outputs": [],
   "source": [
    "airports_gdf=gpd.GeoDataFrame(data=infoairports,\n",
    "                          geometry=gpd.points_from_xy(infoairports.longitude_deg,\n",
    "                                                      infoairports.latitude_deg),\n",
    "                          crs=brazil.crs.to_epsg())# the original coordinates were unprojected!\n"
   ]
  },
  {
   "cell_type": "code",
   "execution_count": null,
   "metadata": {
    "id": "755fb348-f7a6-4383-bd1c-54195e23eea2"
   },
   "outputs": [],
   "source": [
    "#verify:\n",
    "type(airports_gdf)"
   ]
  },
  {
   "cell_type": "markdown",
   "metadata": {
    "id": "1bfd9c61-b4cf-4de2-8d65-cfce0f82a8a2"
   },
   "source": [
    "Now that we have a GDF, we can reproject:"
   ]
  },
  {
   "cell_type": "code",
   "execution_count": null,
   "metadata": {
    "id": "a6791c26-5306-4cc3-86cb-8a42fba88276"
   },
   "outputs": [],
   "source": [
    "airports_gdf_5880=airports_gdf.to_crs(5880)\n",
    "\n",
    "## then\n",
    "\n",
    "base = brazil_5880.plot(color='white', edgecolor='black')\n",
    "airports_gdf_5880.plot(ax=base)"
   ]
  },
  {
   "cell_type": "markdown",
   "metadata": {
    "id": "1a244be3"
   },
   "source": [
    "<a class=\"anchor\" id=\"11\"></a>\n",
    "\n",
    "## Formating Spatial objects into GeoDataFrames\n",
    "\n"
   ]
  },
  {
   "cell_type": "markdown",
   "metadata": {
    "id": "56f39f71"
   },
   "source": [
    "You know **cities_brazil_5880** is a GDF:"
   ]
  },
  {
   "cell_type": "code",
   "execution_count": null,
   "metadata": {
    "id": "0c0f557c"
   },
   "outputs": [],
   "source": [
    "type(cities_brazil_5880)"
   ]
  },
  {
   "cell_type": "markdown",
   "metadata": {
    "id": "a1623e72"
   },
   "source": [
    "Is the brazil centroid a dataframe?"
   ]
  },
  {
   "cell_type": "code",
   "execution_count": null,
   "metadata": {
    "id": "39db903a"
   },
   "outputs": [],
   "source": [
    "brazil_5880.centroid"
   ]
  },
  {
   "cell_type": "code",
   "execution_count": null,
   "metadata": {
    "id": "ef42fd87"
   },
   "outputs": [],
   "source": [
    "type(brazil_5880.centroid)"
   ]
  },
  {
   "cell_type": "markdown",
   "metadata": {
    "id": "24f53d89"
   },
   "source": [
    "You are getting a **GeoSeries** (GS)."
   ]
  },
  {
   "cell_type": "markdown",
   "metadata": {
    "id": "5b3845aa"
   },
   "source": [
    "In case an operation in Geopandas required a GDF instead of a GS, you may need this code:"
   ]
  },
  {
   "cell_type": "code",
   "execution_count": null,
   "metadata": {
    "id": "c4899f6e"
   },
   "outputs": [],
   "source": [
    "brazil_5880.centroid.to_frame()"
   ]
  },
  {
   "cell_type": "markdown",
   "metadata": {
    "id": "0XFVwp7ox7J8"
   },
   "source": [
    "We can give a better look to this GDF:"
   ]
  },
  {
   "cell_type": "code",
   "execution_count": null,
   "metadata": {
    "id": "EWdGY-5K6feq"
   },
   "outputs": [],
   "source": [
    "brazil_5880.centroid.to_frame().info()"
   ]
  },
  {
   "cell_type": "markdown",
   "metadata": {
    "id": "ee31770d"
   },
   "source": [
    "Notice you get a very simple GDF, and you may want to add some information:"
   ]
  },
  {
   "cell_type": "code",
   "execution_count": null,
   "metadata": {
    "id": "1aa88edb"
   },
   "outputs": [],
   "source": [
    "# conversion\n",
    "centroids=brazil_5880.centroid.to_frame()\n",
    "\n",
    "# new column (optional)\n",
    "centroids['country']='Brazil'\n",
    "\n",
    "# renaming the geometry column\n",
    "centroids.rename(columns={0:'geometry'},inplace=True)\n",
    "\n",
    "#setting the geometry (the name is not enough)\n",
    "centroids = centroids.set_geometry(\"geometry\")\n",
    "\n",
    "# verifying:\n",
    "centroids.crs"
   ]
  },
  {
   "cell_type": "code",
   "execution_count": null,
   "metadata": {
    "id": "m4ce9tnN64x2"
   },
   "outputs": [],
   "source": [
    "centroids"
   ]
  },
  {
   "cell_type": "markdown",
   "metadata": {
    "id": "2c049934"
   },
   "source": [
    "<a class=\"anchor\" id=\"12\"></a>\n",
    "\n",
    "## Maps Lacking CRS information"
   ]
  },
  {
   "cell_type": "markdown",
   "metadata": {
    "id": "ae03899d"
   },
   "source": [
    "Reprojecting seems a simple process, but you might find some interesting cases.\n",
    "\n",
    "Let's read the maps on _states_(adm1) and _municipalities_ (adm2) on Brazil to find some interesting facts:"
   ]
  },
  {
   "cell_type": "code",
   "execution_count": null,
   "metadata": {
    "id": "8f1ffae0"
   },
   "outputs": [],
   "source": [
    "brazil_states=gpd.read_file(linkGitSession+'BRAZIL/bra_admbnda_adm1_ibge_2020.zip')\n",
    "brazil_municipalities=gpd.read_file(linkGitSession+'BRAZIL/bra_admbnda_adm2_ibge_2020.zip')"
   ]
  },
  {
   "cell_type": "markdown",
   "metadata": {
    "id": "04c40df3-a43f-4252-a589-ab8449fcd9dd"
   },
   "source": [
    "They are maps, for sure:"
   ]
  },
  {
   "cell_type": "code",
   "execution_count": null,
   "metadata": {
    "id": "c94b207d-0723-4b51-82ff-0ff999a844ac"
   },
   "outputs": [],
   "source": [
    "type(brazil_states), type(brazil_municipalities)"
   ]
  },
  {
   "cell_type": "markdown",
   "metadata": {
    "id": "1fc50b42"
   },
   "source": [
    "But, notice this:"
   ]
  },
  {
   "cell_type": "code",
   "execution_count": null,
   "metadata": {
    "id": "fcf97ff7"
   },
   "outputs": [],
   "source": [
    "brazil_states.crs, brazil_municipalities.crs"
   ]
  },
  {
   "cell_type": "markdown",
   "metadata": {
    "id": "d5d3fb9f"
   },
   "source": [
    "They do not have crs information, however they can be plotted:"
   ]
  },
  {
   "cell_type": "code",
   "execution_count": null,
   "metadata": {
    "id": "55f99615"
   },
   "outputs": [],
   "source": [
    "import matplotlib.pyplot as plt\n",
    "\n",
    "fig, (ax1, ax2) = plt.subplots(ncols=2, sharex=False, sharey=False, figsize=(12,12))\n",
    "\n",
    "brazil_states.plot(ax=ax1, facecolor='lightgrey', edgecolor='black')\n",
    "brazil_municipalities.plot(ax=ax2, facecolor='lightgrey', edgecolor='black',linewidth=0.2)\n"
   ]
  },
  {
   "cell_type": "markdown",
   "metadata": {
    "id": "1b744542"
   },
   "source": [
    "Since we are using the crs 5880 for Brazil, the initial strategy could be to set the CRS with the right projection :"
   ]
  },
  {
   "cell_type": "code",
   "execution_count": null,
   "metadata": {
    "id": "931bfad1"
   },
   "outputs": [],
   "source": [
    "## uncomment this to see the error message\n",
    "# brazil_states.to_crs(5880)"
   ]
  },
  {
   "cell_type": "markdown",
   "metadata": {
    "id": "4c6125eb"
   },
   "source": [
    "Python says _\"Please set a crs on the object first\"_. This would mean to know the original projection of the geometry:"
   ]
  },
  {
   "cell_type": "markdown",
   "metadata": {
    "id": "947b1955"
   },
   "source": [
    "From the plots above and the axes shown, we conclude the maps are unprojected, then:"
   ]
  },
  {
   "cell_type": "code",
   "execution_count": null,
   "metadata": {
    "id": "b0cea549"
   },
   "outputs": [],
   "source": [
    "# set as unprojected\n",
    "brazil_states.crs = \"EPSG:4326\"\n",
    "brazil_municipalities.crs = \"EPSG:4326\""
   ]
  },
  {
   "cell_type": "markdown",
   "metadata": {
    "id": "370b9b22"
   },
   "source": [
    "Now, we can reproject:"
   ]
  },
  {
   "cell_type": "code",
   "execution_count": null,
   "metadata": {
    "id": "b5931b04"
   },
   "outputs": [],
   "source": [
    "brazil_states_5880=brazil_states.to_crs(5880)\n",
    "brazil_municipalities_5880=brazil_municipalities.to_crs(5880)"
   ]
  },
  {
   "cell_type": "markdown",
   "metadata": {
    "id": "1IjKmjsMAEUo"
   },
   "source": [
    "# Saving\n",
    "\n",
    "We will create a file readabel by R or Python, in this case a GeoPackage file (**.gpkg**). This file allows you to save all the previous maps as **layers** in **one** file."
   ]
  },
  {
   "cell_type": "code",
   "execution_count": null,
   "metadata": {
    "id": "2PGd93FwzzZX"
   },
   "outputs": [],
   "source": [
    "## Good practice to refresh your memory\n",
    "\n",
    "## Find only GeoDataFrames in the current session\n",
    "geodataframe_list = [var for var in globals() if isinstance(globals()[var], gpd.GeoDataFrame)]\n",
    "\n",
    "print(\"List of GeoDataFrames in memory:\")\n",
    "for name in geodataframe_list:\n",
    "    print(name)"
   ]
  },
  {
   "cell_type": "markdown",
   "metadata": {},
   "source": [
    "We know we will save all the Brazil's 5880:\n",
    "brazil_5880,cities_brazil_5880, airports_gdf_5880, brazil_states_5880, brazil_municipalities_5880.\n",
    "...and also, from 'world': countries,rivers, and cities.\n",
    "\n",
    "Let's check those column names are more intuitive:"
   ]
  },
  {
   "cell_type": "code",
   "execution_count": null,
   "metadata": {},
   "outputs": [],
   "source": [
    "brazil_5880.columns"
   ]
  },
  {
   "cell_type": "code",
   "execution_count": null,
   "metadata": {},
   "outputs": [],
   "source": [
    "cities_brazil_5880.columns"
   ]
  },
  {
   "cell_type": "code",
   "execution_count": null,
   "metadata": {},
   "outputs": [],
   "source": [
    "airports_gdf_5880.columns"
   ]
  },
  {
   "cell_type": "code",
   "execution_count": null,
   "metadata": {},
   "outputs": [],
   "source": [
    "brazil_states_5880.columns"
   ]
  },
  {
   "cell_type": "code",
   "execution_count": null,
   "metadata": {},
   "outputs": [],
   "source": [
    "brazil_municipalities_5880.columns"
   ]
  },
  {
   "cell_type": "markdown",
   "metadata": {},
   "source": [
    "Let's drop and rename some columns in the last three:"
   ]
  },
  {
   "cell_type": "code",
   "execution_count": null,
   "metadata": {},
   "outputs": [],
   "source": [
    "airports_gdf_5880.drop(columns=['latitude_deg', 'longitude_deg'],inplace=True)\n",
    "airports_gdf_5880.rename(columns={'region_name':'region'},inplace=True)\n",
    "\n",
    "brazil_states_5880.drop(columns=['ADM0_EN', 'ADM0_PT', 'ADM0_PCODE'],inplace=True)\n",
    "brazil_states_5880.rename(columns={'ADM1_PT':'state_name','ADM1_PCODE':'state_code'},inplace=True)\n",
    "\n",
    "brazil_municipalities_5880.drop(columns=['ADM0_EN', 'ADM0_PT', 'ADM0_PCODE','ET_ID'],inplace=True)\n",
    "brazil_municipalities_5880.rename(columns={'ADM1_PT':'state_name','ADM1_PCODE':'state_code','ADM2_PT':\"municipality_name\",\n",
    "       'ADM2_PCODE':\"municipality_code\"},inplace=True)\n"
   ]
  },
  {
   "cell_type": "markdown",
   "metadata": {
    "id": "bTFCrNaN1E1v"
   },
   "source": [
    "We choose what to save for later use (send it to GitHub):"
   ]
  },
  {
   "cell_type": "code",
   "execution_count": null,
   "metadata": {
    "id": "OfbXEE7lz0If"
   },
   "outputs": [],
   "source": [
    "### from the list above:\n",
    "brazil_5880.to_file('brazil_5880.gpkg',driver='GPKG',layer='country')\n",
    "cities_brazil_5880.to_file('brazil_5880.gpkg',driver='GPKG',layer='cities')\n",
    "airports_gdf_5880.to_file('brazil_5880.gpkg',driver='GPKG',layer='airports')\n",
    "brazil_states_5880.to_file('brazil_5880.gpkg',driver='GPKG',layer='states')\n",
    "brazil_municipalities_5880.to_file('brazil_5880.gpkg',driver='GPKG',layer='municipalities')"
   ]
  },
  {
   "cell_type": "markdown",
   "metadata": {},
   "source": [
    "Let's check the names of the other group:"
   ]
  },
  {
   "cell_type": "code",
   "execution_count": null,
   "metadata": {},
   "outputs": [],
   "source": [
    "rivers.columns"
   ]
  },
  {
   "cell_type": "code",
   "execution_count": null,
   "metadata": {},
   "outputs": [],
   "source": [
    "cities.columns"
   ]
  },
  {
   "cell_type": "code",
   "execution_count": null,
   "metadata": {},
   "outputs": [],
   "source": [
    "countries.columns"
   ]
  },
  {
   "cell_type": "markdown",
   "metadata": {},
   "source": [
    "Let's rename:"
   ]
  },
  {
   "cell_type": "code",
   "execution_count": null,
   "metadata": {},
   "outputs": [],
   "source": [
    "rivers.rename(columns={'NAME':'RIVER'},inplace=True)\n",
    "cities.rename(columns={'NAME':'CITY'},inplace=True)"
   ]
  },
  {
   "cell_type": "markdown",
   "metadata": {},
   "source": [
    "We may also create:"
   ]
  },
  {
   "cell_type": "code",
   "execution_count": null,
   "metadata": {},
   "outputs": [],
   "source": [
    "rivers.to_file('worldMaps.gpkg',driver='GPKG',layer='rivers')\n",
    "cities.to_file('worldMaps.gpkg',driver='GPKG',layer='cities')\n",
    "countries.to_file('worldMaps.gpkg',driver='GPKG',layer='countries')"
   ]
  }
 ],
 "metadata": {
  "anaconda-cloud": {
   "attach-environment": true,
   "summary": "test"
  },
  "colab": {
   "provenance": []
  },
  "hide_input": false,
  "kernelspec": {
   "display_name": "Python 3 (ipykernel)",
   "language": "python",
   "name": "python3"
  },
  "language_info": {
   "codemirror_mode": {
    "name": "ipython",
    "version": 3
   },
   "file_extension": ".py",
   "mimetype": "text/x-python",
   "name": "python",
   "nbconvert_exporter": "python",
   "pygments_lexer": "ipython3",
   "version": "3.11.13"
  },
  "toc-autonumbering": false
 },
 "nbformat": 4,
 "nbformat_minor": 4
}
